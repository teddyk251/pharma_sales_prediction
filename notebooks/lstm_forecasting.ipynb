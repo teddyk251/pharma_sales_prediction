{
 "cells": [
  {
   "cell_type": "code",
   "execution_count": 1,
   "metadata": {},
   "outputs": [],
   "source": [
    "import numpy as np\n",
    "import pandas as pd\n",
    "import matplotlib.pyplot as plt\n",
    "import seaborn as sns\n",
    "import os\n",
    "import sys\n",
    "import pickle\n",
    "sys.path.append(os.path.abspath(os.path.join('data')))\n",
    "sys.path.insert(0,'../scripts/')\n",
    "import warnings\n",
    "warnings.filterwarnings('ignore')\n",
    "\n",
    "from utils import Utils\n",
    "from datacleaner import DataCleaner\n",
    "from model import Model\n",
    "import mlflow\n",
    "import mlflow.tensorflow\n",
    "from feature_engineering import FeatureEngineering\n",
    "from datetime import datetime\n",
    "from matplotlib.gridspec import GridSpec\n",
    "from matplotlib import ticker\n",
    "from statsmodels.tsa.stattools import adfuller, acf, pacf\n",
    "from sklearn.preprocessing import MinMaxScaler\n",
    "import tensorflow as tf\n",
    "from tensorflow.keras.models import Sequential\n",
    "from tensorflow.keras.layers import Dense\n",
    "from tensorflow.keras.layers import LSTM, Bidirectional, Embedding\n",
    "from tensorflow.keras.optimizers import Adam, SGD\n",
    "from tensorflow.keras.layers import Dropout\n"
   ]
  },
  {
   "cell_type": "code",
   "execution_count": 2,
   "metadata": {},
   "outputs": [],
   "source": [
    "utils = Utils()\n",
    "cleaner = DataCleaner()"
   ]
  },
  {
   "cell_type": "code",
   "execution_count": 3,
   "metadata": {},
   "outputs": [],
   "source": [
    "latest_df = utils.load_data_dvc('v2-merged','data/feature_engineered_df.csv','/home/teddy/dev/learning/10 academy/working/pharma_sales_prediction')"
   ]
  },
  {
   "cell_type": "code",
   "execution_count": 4,
   "metadata": {},
   "outputs": [],
   "source": [
    "latest_df.sort_values(by='Date', inplace=True)\n",
    "\n",
    "train_split, test_split = latest_df.iloc[:int(len(latest_df)*.8), :], latest_df.iloc[int(len(latest_df)*.8):, :]"
   ]
  },
  {
   "cell_type": "code",
   "execution_count": 5,
   "metadata": {},
   "outputs": [],
   "source": [
    "X_train = []\n",
    "y_train = []\n",
    "\n",
    "n_future = 1\n",
    "n_past = 32\n",
    "train_split = train_split.iloc[:20_000, :]\n",
    "test_split = test_split.iloc[:20_000, :]\n",
    "for i in range(n_past, len(train_split) - n_future +1):\n",
    "    X_train.append(train_split.iloc[i - n_past:i, :])\n",
    "    y_train.append(train_split.iloc[i:i + n_future, 0])\n",
    "\n",
    "\n",
    "X_test = []\n",
    "y_test = []\n",
    "for i in range(n_past, len(test_split) - n_future +1):\n",
    "    X_test.append(test_split.iloc[i - n_past:i, :])\n",
    "    y_test.append(test_split.iloc[i:i + n_future, 0])"
   ]
  },
  {
   "cell_type": "code",
   "execution_count": 6,
   "metadata": {},
   "outputs": [
    {
     "name": "stdout",
     "output_type": "stream",
     "text": [
      "X_train data shape: (19968, 32, 26)\n",
      "y_train data shape: (19968, 1)\n",
      "X_test data shape: (19968, 32, 26)\n",
      "y_test data shape: (19968, 1)\n"
     ]
    }
   ],
   "source": [
    "# Let's turn them into numpy arrays\n",
    "X_train, y_train = np.array(X_train), np.array(y_train)\n",
    "print(\"X_train data shape:\", X_train.shape)\n",
    "print(\"y_train data shape:\", y_train.shape)\n",
    "\n",
    "X_test, y_test = np.array(X_test), np.array(y_test)\n",
    "print(\"X_test data shape:\", X_test.shape)\n",
    "print(\"y_test data shape:\", y_test.shape)"
   ]
  },
  {
   "cell_type": "code",
   "execution_count": 7,
   "metadata": {},
   "outputs": [],
   "source": [
    "from tensorflow.keras.models import Sequential\n",
    "from tensorflow.keras.layers import Dense\n",
    "from tensorflow.keras.layers import LSTM, Bidirectional, Embedding\n",
    "from tensorflow.keras.layers import Dropout\n",
    "from tensorflow.keras.optimizers import Adam, SGD\n",
    "from tensorflow.keras.callbacks import EarlyStopping, ReduceLROnPlateau, ModelCheckpoint, TensorBoard"
   ]
  },
  {
   "cell_type": "code",
   "execution_count": 8,
   "metadata": {},
   "outputs": [],
   "source": [
    "def get_model():\n",
    "    model = Sequential()\n",
    "\n",
    "    # Adding 1st LSTM layer\n",
    "    model.add(LSTM(units=32, return_sequences=True, input_shape=(X_train.shape[1:])))\n",
    "    model.add(Dense(units=64, activation='relu'))\n",
    "    # model.add(Dropout(0.2))\n",
    "    model.add(LSTM(units=128, return_sequences=True))\n",
    "    model.add(Dropout(0.2))\n",
    "    model.add(LSTM(units=256, return_sequences=True))\n",
    "    #model.add(LSTM(units=1024, return_sequences=True))\n",
    "    #model.add(Dense(units=512, activation='relu'))\n",
    "\n",
    "    # Adding 2nd LSTM layer\n",
    "    model.add(LSTM(units=128, return_sequences=True))\n",
    "\n",
    "    model.add(LSTM(units=32, return_sequences=False))\n",
    "\n",
    "    # Adding Dropout\n",
    "    model.add(Dropout(0.2))\n",
    "    #model.add(Dense(units=16, activation='relu'))\n",
    "    # Output layer\n",
    "    model.add(Dense(units=y_train.shape[1]))\n",
    "    # # Compiling the Neural Network\n",
    "    model.compile(optimizer = Adam(learning_rate=0.01), loss='mse')\n",
    "\n",
    "    return model\n",
    "\n",
    "# tb = TensorBoard('logs')"
   ]
  },
  {
   "cell_type": "code",
   "execution_count": 15,
   "metadata": {},
   "outputs": [
    {
     "data": {
      "text/plain": [
       "<ActiveRun: >"
      ]
     },
     "execution_count": 15,
     "metadata": {},
     "output_type": "execute_result"
    }
   ],
   "source": [
    "mlflow.set_experiment('LSTM-Forecasting')\n",
    "mlflow.set_tracking_uri('http://localhost:5000')\n",
    "mlflow.start_run()"
   ]
  },
  {
   "cell_type": "code",
   "execution_count": 16,
   "metadata": {},
   "outputs": [],
   "source": [
    "mlflow.tensorflow.autolog(every_n_iter=2)"
   ]
  },
  {
   "cell_type": "code",
   "execution_count": 27,
   "metadata": {},
   "outputs": [
    {
     "name": "stderr",
     "output_type": "stream",
     "text": [
      "WARNING:absl:Found untraced functions such as lstm_cell_55_layer_call_fn, lstm_cell_55_layer_call_and_return_conditional_losses, lstm_cell_56_layer_call_fn, lstm_cell_56_layer_call_and_return_conditional_losses, lstm_cell_57_layer_call_fn while saving (showing 5 of 10). These functions will not be directly callable after loading.\n"
     ]
    },
    {
     "name": "stdout",
     "output_type": "stream",
     "text": [
      "INFO:tensorflow:Assets written to: /tmp/tmpm6ng8gqy/model/data/model/assets\n"
     ]
    },
    {
     "name": "stderr",
     "output_type": "stream",
     "text": [
      "INFO:tensorflow:Assets written to: /tmp/tmpm6ng8gqy/model/data/model/assets\n",
      "WARNING:absl:<keras.layers.recurrent.LSTMCell object at 0x7fe598b41580> has the same name 'LSTMCell' as a built-in Keras object. Consider renaming <class 'keras.layers.recurrent.LSTMCell'> to avoid naming conflicts when loading with `tf.keras.models.load_model`. If renaming is not possible, pass the object in the `custom_objects` parameter of the load function.\n",
      "WARNING:absl:<keras.layers.recurrent.LSTMCell object at 0x7fe6d29c8160> has the same name 'LSTMCell' as a built-in Keras object. Consider renaming <class 'keras.layers.recurrent.LSTMCell'> to avoid naming conflicts when loading with `tf.keras.models.load_model`. If renaming is not possible, pass the object in the `custom_objects` parameter of the load function.\n",
      "WARNING:absl:<keras.layers.recurrent.LSTMCell object at 0x7fe595112c70> has the same name 'LSTMCell' as a built-in Keras object. Consider renaming <class 'keras.layers.recurrent.LSTMCell'> to avoid naming conflicts when loading with `tf.keras.models.load_model`. If renaming is not possible, pass the object in the `custom_objects` parameter of the load function.\n",
      "WARNING:absl:<keras.layers.recurrent.LSTMCell object at 0x7fe6d243aa30> has the same name 'LSTMCell' as a built-in Keras object. Consider renaming <class 'keras.layers.recurrent.LSTMCell'> to avoid naming conflicts when loading with `tf.keras.models.load_model`. If renaming is not possible, pass the object in the `custom_objects` parameter of the load function.\n",
      "WARNING:absl:<keras.layers.recurrent.LSTMCell object at 0x7fe55dacacd0> has the same name 'LSTMCell' as a built-in Keras object. Consider renaming <class 'keras.layers.recurrent.LSTMCell'> to avoid naming conflicts when loading with `tf.keras.models.load_model`. If renaming is not possible, pass the object in the `custom_objects` parameter of the load function.\n"
     ]
    },
    {
     "name": "stdout",
     "output_type": "stream",
     "text": [
      "Fold number 1 complete\n",
      "----------------------------------------------------------------------------------------------------\n",
      "Score for fold 1: 103648.8125\n"
     ]
    },
    {
     "name": "stderr",
     "output_type": "stream",
     "text": [
      "WARNING:absl:Found untraced functions such as lstm_cell_60_layer_call_fn, lstm_cell_60_layer_call_and_return_conditional_losses, lstm_cell_61_layer_call_fn, lstm_cell_61_layer_call_and_return_conditional_losses, lstm_cell_62_layer_call_fn while saving (showing 5 of 10). These functions will not be directly callable after loading.\n"
     ]
    },
    {
     "name": "stdout",
     "output_type": "stream",
     "text": [
      "INFO:tensorflow:Assets written to: /tmp/tmp3trjpx0t/model/data/model/assets\n"
     ]
    },
    {
     "name": "stderr",
     "output_type": "stream",
     "text": [
      "INFO:tensorflow:Assets written to: /tmp/tmp3trjpx0t/model/data/model/assets\n",
      "WARNING:absl:<keras.layers.recurrent.LSTMCell object at 0x7fe55ca41dc0> has the same name 'LSTMCell' as a built-in Keras object. Consider renaming <class 'keras.layers.recurrent.LSTMCell'> to avoid naming conflicts when loading with `tf.keras.models.load_model`. If renaming is not possible, pass the object in the `custom_objects` parameter of the load function.\n",
      "WARNING:absl:<keras.layers.recurrent.LSTMCell object at 0x7fe7085c8280> has the same name 'LSTMCell' as a built-in Keras object. Consider renaming <class 'keras.layers.recurrent.LSTMCell'> to avoid naming conflicts when loading with `tf.keras.models.load_model`. If renaming is not possible, pass the object in the `custom_objects` parameter of the load function.\n",
      "WARNING:absl:<keras.layers.recurrent.LSTMCell object at 0x7fe6d29c8250> has the same name 'LSTMCell' as a built-in Keras object. Consider renaming <class 'keras.layers.recurrent.LSTMCell'> to avoid naming conflicts when loading with `tf.keras.models.load_model`. If renaming is not possible, pass the object in the `custom_objects` parameter of the load function.\n",
      "WARNING:absl:<keras.layers.recurrent.LSTMCell object at 0x7fe7d7bec4f0> has the same name 'LSTMCell' as a built-in Keras object. Consider renaming <class 'keras.layers.recurrent.LSTMCell'> to avoid naming conflicts when loading with `tf.keras.models.load_model`. If renaming is not possible, pass the object in the `custom_objects` parameter of the load function.\n",
      "WARNING:absl:<keras.layers.recurrent.LSTMCell object at 0x7fe7d7d46a30> has the same name 'LSTMCell' as a built-in Keras object. Consider renaming <class 'keras.layers.recurrent.LSTMCell'> to avoid naming conflicts when loading with `tf.keras.models.load_model`. If renaming is not possible, pass the object in the `custom_objects` parameter of the load function.\n"
     ]
    },
    {
     "name": "stdout",
     "output_type": "stream",
     "text": [
      "Fold number 2 complete\n",
      "----------------------------------------------------------------------------------------------------\n",
      "Score for fold 2: 103643.0625\n"
     ]
    },
    {
     "name": "stderr",
     "output_type": "stream",
     "text": [
      "WARNING:absl:Found untraced functions such as lstm_cell_65_layer_call_fn, lstm_cell_65_layer_call_and_return_conditional_losses, lstm_cell_66_layer_call_fn, lstm_cell_66_layer_call_and_return_conditional_losses, lstm_cell_67_layer_call_fn while saving (showing 5 of 10). These functions will not be directly callable after loading.\n"
     ]
    },
    {
     "name": "stdout",
     "output_type": "stream",
     "text": [
      "INFO:tensorflow:Assets written to: /tmp/tmpgw0q4v7m/model/data/model/assets\n"
     ]
    },
    {
     "name": "stderr",
     "output_type": "stream",
     "text": [
      "INFO:tensorflow:Assets written to: /tmp/tmpgw0q4v7m/model/data/model/assets\n",
      "WARNING:absl:<keras.layers.recurrent.LSTMCell object at 0x7fe6f014d2e0> has the same name 'LSTMCell' as a built-in Keras object. Consider renaming <class 'keras.layers.recurrent.LSTMCell'> to avoid naming conflicts when loading with `tf.keras.models.load_model`. If renaming is not possible, pass the object in the `custom_objects` parameter of the load function.\n",
      "WARNING:absl:<keras.layers.recurrent.LSTMCell object at 0x7fe599757ac0> has the same name 'LSTMCell' as a built-in Keras object. Consider renaming <class 'keras.layers.recurrent.LSTMCell'> to avoid naming conflicts when loading with `tf.keras.models.load_model`. If renaming is not possible, pass the object in the `custom_objects` parameter of the load function.\n",
      "WARNING:absl:<keras.layers.recurrent.LSTMCell object at 0x7fe55c926250> has the same name 'LSTMCell' as a built-in Keras object. Consider renaming <class 'keras.layers.recurrent.LSTMCell'> to avoid naming conflicts when loading with `tf.keras.models.load_model`. If renaming is not possible, pass the object in the `custom_objects` parameter of the load function.\n",
      "WARNING:absl:<keras.layers.recurrent.LSTMCell object at 0x7fe55c3b60a0> has the same name 'LSTMCell' as a built-in Keras object. Consider renaming <class 'keras.layers.recurrent.LSTMCell'> to avoid naming conflicts when loading with `tf.keras.models.load_model`. If renaming is not possible, pass the object in the `custom_objects` parameter of the load function.\n",
      "WARNING:absl:<keras.layers.recurrent.LSTMCell object at 0x7fe55c3ae760> has the same name 'LSTMCell' as a built-in Keras object. Consider renaming <class 'keras.layers.recurrent.LSTMCell'> to avoid naming conflicts when loading with `tf.keras.models.load_model`. If renaming is not possible, pass the object in the `custom_objects` parameter of the load function.\n"
     ]
    },
    {
     "name": "stdout",
     "output_type": "stream",
     "text": [
      "Fold number 3 complete\n",
      "----------------------------------------------------------------------------------------------------\n",
      "Score for fold 3: 103655.84375\n"
     ]
    },
    {
     "name": "stderr",
     "output_type": "stream",
     "text": [
      "WARNING:absl:Found untraced functions such as lstm_cell_70_layer_call_fn, lstm_cell_70_layer_call_and_return_conditional_losses, lstm_cell_71_layer_call_fn, lstm_cell_71_layer_call_and_return_conditional_losses, lstm_cell_72_layer_call_fn while saving (showing 5 of 10). These functions will not be directly callable after loading.\n"
     ]
    },
    {
     "name": "stdout",
     "output_type": "stream",
     "text": [
      "INFO:tensorflow:Assets written to: /tmp/tmp6yjjp7k4/model/data/model/assets\n"
     ]
    },
    {
     "name": "stderr",
     "output_type": "stream",
     "text": [
      "INFO:tensorflow:Assets written to: /tmp/tmp6yjjp7k4/model/data/model/assets\n",
      "WARNING:absl:<keras.layers.recurrent.LSTMCell object at 0x7fe599efc460> has the same name 'LSTMCell' as a built-in Keras object. Consider renaming <class 'keras.layers.recurrent.LSTMCell'> to avoid naming conflicts when loading with `tf.keras.models.load_model`. If renaming is not possible, pass the object in the `custom_objects` parameter of the load function.\n",
      "WARNING:absl:<keras.layers.recurrent.LSTMCell object at 0x7fe5945e21f0> has the same name 'LSTMCell' as a built-in Keras object. Consider renaming <class 'keras.layers.recurrent.LSTMCell'> to avoid naming conflicts when loading with `tf.keras.models.load_model`. If renaming is not possible, pass the object in the `custom_objects` parameter of the load function.\n",
      "WARNING:absl:<keras.layers.recurrent.LSTMCell object at 0x7fe54a619f40> has the same name 'LSTMCell' as a built-in Keras object. Consider renaming <class 'keras.layers.recurrent.LSTMCell'> to avoid naming conflicts when loading with `tf.keras.models.load_model`. If renaming is not possible, pass the object in the `custom_objects` parameter of the load function.\n",
      "WARNING:absl:<keras.layers.recurrent.LSTMCell object at 0x7fe55cbeeee0> has the same name 'LSTMCell' as a built-in Keras object. Consider renaming <class 'keras.layers.recurrent.LSTMCell'> to avoid naming conflicts when loading with `tf.keras.models.load_model`. If renaming is not possible, pass the object in the `custom_objects` parameter of the load function.\n",
      "WARNING:absl:<keras.layers.recurrent.LSTMCell object at 0x7fe6d2755460> has the same name 'LSTMCell' as a built-in Keras object. Consider renaming <class 'keras.layers.recurrent.LSTMCell'> to avoid naming conflicts when loading with `tf.keras.models.load_model`. If renaming is not possible, pass the object in the `custom_objects` parameter of the load function.\n"
     ]
    },
    {
     "name": "stdout",
     "output_type": "stream",
     "text": [
      "Fold number 4 complete\n",
      "----------------------------------------------------------------------------------------------------\n",
      "Score for fold 4: 103644.515625\n"
     ]
    },
    {
     "name": "stderr",
     "output_type": "stream",
     "text": [
      "WARNING:absl:Found untraced functions such as lstm_cell_75_layer_call_fn, lstm_cell_75_layer_call_and_return_conditional_losses, lstm_cell_76_layer_call_fn, lstm_cell_76_layer_call_and_return_conditional_losses, lstm_cell_77_layer_call_fn while saving (showing 5 of 10). These functions will not be directly callable after loading.\n"
     ]
    },
    {
     "name": "stdout",
     "output_type": "stream",
     "text": [
      "INFO:tensorflow:Assets written to: /tmp/tmpsfluvk9t/model/data/model/assets\n"
     ]
    },
    {
     "name": "stderr",
     "output_type": "stream",
     "text": [
      "INFO:tensorflow:Assets written to: /tmp/tmpsfluvk9t/model/data/model/assets\n",
      "WARNING:absl:<keras.layers.recurrent.LSTMCell object at 0x7fe55c948550> has the same name 'LSTMCell' as a built-in Keras object. Consider renaming <class 'keras.layers.recurrent.LSTMCell'> to avoid naming conflicts when loading with `tf.keras.models.load_model`. If renaming is not possible, pass the object in the `custom_objects` parameter of the load function.\n",
      "WARNING:absl:<keras.layers.recurrent.LSTMCell object at 0x7fe5406c0970> has the same name 'LSTMCell' as a built-in Keras object. Consider renaming <class 'keras.layers.recurrent.LSTMCell'> to avoid naming conflicts when loading with `tf.keras.models.load_model`. If renaming is not possible, pass the object in the `custom_objects` parameter of the load function.\n",
      "WARNING:absl:<keras.layers.recurrent.LSTMCell object at 0x7fe599bb45e0> has the same name 'LSTMCell' as a built-in Keras object. Consider renaming <class 'keras.layers.recurrent.LSTMCell'> to avoid naming conflicts when loading with `tf.keras.models.load_model`. If renaming is not possible, pass the object in the `custom_objects` parameter of the load function.\n",
      "WARNING:absl:<keras.layers.recurrent.LSTMCell object at 0x7fe598861e50> has the same name 'LSTMCell' as a built-in Keras object. Consider renaming <class 'keras.layers.recurrent.LSTMCell'> to avoid naming conflicts when loading with `tf.keras.models.load_model`. If renaming is not possible, pass the object in the `custom_objects` parameter of the load function.\n",
      "WARNING:absl:<keras.layers.recurrent.LSTMCell object at 0x7fe55d64f250> has the same name 'LSTMCell' as a built-in Keras object. Consider renaming <class 'keras.layers.recurrent.LSTMCell'> to avoid naming conflicts when loading with `tf.keras.models.load_model`. If renaming is not possible, pass the object in the `custom_objects` parameter of the load function.\n"
     ]
    },
    {
     "name": "stdout",
     "output_type": "stream",
     "text": [
      "Fold number 5 complete\n",
      "----------------------------------------------------------------------------------------------------\n",
      "Score for fold 5: 103658.953125\n"
     ]
    }
   ],
   "source": [
    "from sklearn.model_selection import cross_val_score, KFold\n",
    "k_fold = KFold(n_splits=5, shuffle=False)\n",
    "fold = 1\n",
    "train_histories = []\n",
    "loss_per_fold = []\n",
    "for train, valid in k_fold.split(X_train, y_train):\n",
    "    # Get a fress model from the factory :)\n",
    "    model = get_model()\n",
    "    # Training utilities\n",
    "    es = EarlyStopping(monitor='val_loss', min_delta=1e-10, patience=10, verbose=0)\n",
    "    rlr = ReduceLROnPlateau(monitor='val_loss', factor=0.1, patience=10, verbose=0)\n",
    "    mcp = ModelCheckpoint(filepath=f'../models/weights-fold-{fold}.h5', monitor='val_loss', verbose=0, save_best_only=True, save_weights_only=True)\n",
    "    # Start training\n",
    "    history = model.fit(X_train, \n",
    "                    y_train, \n",
    "                    shuffle=True, \n",
    "                    epochs=100, \n",
    "                    callbacks=[es, rlr, mcp], \n",
    "                    validation_split=0.2, \n",
    "                    verbose=0, \n",
    "                    batch_size=64)\n",
    "    train_histories.append(history)\n",
    "    print(f\"Fold number {fold} complete\")\n",
    "    print(\"-\"*100)\n",
    "    # Evaluate\n",
    "    score = model.evaluate(X_test, y_test, verbose=0)\n",
    "    loss_per_fold.append(score)\n",
    "    print(f'Score for fold {fold}: {score}')\n",
    "    fold += 1"
   ]
  },
  {
   "cell_type": "code",
   "execution_count": 14,
   "metadata": {},
   "outputs": [],
   "source": [
    "mlflow.end_run()"
   ]
  },
  {
   "cell_type": "code",
   "execution_count": null,
   "metadata": {},
   "outputs": [],
   "source": []
  },
  {
   "cell_type": "code",
   "execution_count": null,
   "metadata": {},
   "outputs": [],
   "source": []
  },
  {
   "cell_type": "code",
   "execution_count": 20,
   "metadata": {},
   "outputs": [
    {
     "data": {
      "text/html": [
       "<div>\n",
       "<style scoped>\n",
       "    .dataframe tbody tr th:only-of-type {\n",
       "        vertical-align: middle;\n",
       "    }\n",
       "\n",
       "    .dataframe tbody tr th {\n",
       "        vertical-align: top;\n",
       "    }\n",
       "\n",
       "    .dataframe thead th {\n",
       "        text-align: right;\n",
       "    }\n",
       "</style>\n",
       "<table border=\"1\" class=\"dataframe\">\n",
       "  <thead>\n",
       "    <tr style=\"text-align: right;\">\n",
       "      <th></th>\n",
       "      <th>Store</th>\n",
       "      <th>DayOfWeek</th>\n",
       "      <th>Date</th>\n",
       "      <th>Sales</th>\n",
       "      <th>Customers</th>\n",
       "      <th>Open</th>\n",
       "      <th>Promo</th>\n",
       "      <th>StateHoliday</th>\n",
       "      <th>SchoolHoliday</th>\n",
       "      <th>StoreType</th>\n",
       "      <th>...</th>\n",
       "      <th>PromoInterval</th>\n",
       "      <th>weekday</th>\n",
       "      <th>weekend</th>\n",
       "      <th>month</th>\n",
       "      <th>year</th>\n",
       "      <th>day</th>\n",
       "      <th>period_in_month</th>\n",
       "      <th>before_holiday</th>\n",
       "      <th>after_holiday</th>\n",
       "      <th>SalesScaled</th>\n",
       "    </tr>\n",
       "  </thead>\n",
       "  <tbody>\n",
       "    <tr>\n",
       "      <th>504908</th>\n",
       "      <td>667</td>\n",
       "      <td>3</td>\n",
       "      <td>22</td>\n",
       "      <td>8454</td>\n",
       "      <td>731</td>\n",
       "      <td>1</td>\n",
       "      <td>1</td>\n",
       "      <td>0</td>\n",
       "      <td>0</td>\n",
       "      <td>3</td>\n",
       "      <td>...</td>\n",
       "      <td>0</td>\n",
       "      <td>1</td>\n",
       "      <td>0</td>\n",
       "      <td>1</td>\n",
       "      <td>2013</td>\n",
       "      <td>23</td>\n",
       "      <td>2</td>\n",
       "      <td>17</td>\n",
       "      <td>65</td>\n",
       "      <td>0.262034</td>\n",
       "    </tr>\n",
       "    <tr>\n",
       "      <th>282297</th>\n",
       "      <td>373</td>\n",
       "      <td>3</td>\n",
       "      <td>22</td>\n",
       "      <td>4090</td>\n",
       "      <td>269</td>\n",
       "      <td>1</td>\n",
       "      <td>1</td>\n",
       "      <td>0</td>\n",
       "      <td>0</td>\n",
       "      <td>3</td>\n",
       "      <td>...</td>\n",
       "      <td>2</td>\n",
       "      <td>1</td>\n",
       "      <td>0</td>\n",
       "      <td>1</td>\n",
       "      <td>2013</td>\n",
       "      <td>23</td>\n",
       "      <td>2</td>\n",
       "      <td>17</td>\n",
       "      <td>65</td>\n",
       "      <td>0.126771</td>\n",
       "    </tr>\n",
       "    <tr>\n",
       "      <th>228350</th>\n",
       "      <td>303</td>\n",
       "      <td>3</td>\n",
       "      <td>22</td>\n",
       "      <td>6911</td>\n",
       "      <td>679</td>\n",
       "      <td>1</td>\n",
       "      <td>1</td>\n",
       "      <td>0</td>\n",
       "      <td>0</td>\n",
       "      <td>0</td>\n",
       "      <td>...</td>\n",
       "      <td>1</td>\n",
       "      <td>1</td>\n",
       "      <td>0</td>\n",
       "      <td>1</td>\n",
       "      <td>2013</td>\n",
       "      <td>23</td>\n",
       "      <td>2</td>\n",
       "      <td>17</td>\n",
       "      <td>65</td>\n",
       "      <td>0.214208</td>\n",
       "    </tr>\n",
       "    <tr>\n",
       "      <th>322037</th>\n",
       "      <td>425</td>\n",
       "      <td>3</td>\n",
       "      <td>22</td>\n",
       "      <td>3346</td>\n",
       "      <td>424</td>\n",
       "      <td>1</td>\n",
       "      <td>1</td>\n",
       "      <td>0</td>\n",
       "      <td>0</td>\n",
       "      <td>3</td>\n",
       "      <td>...</td>\n",
       "      <td>0</td>\n",
       "      <td>1</td>\n",
       "      <td>0</td>\n",
       "      <td>1</td>\n",
       "      <td>2013</td>\n",
       "      <td>23</td>\n",
       "      <td>2</td>\n",
       "      <td>17</td>\n",
       "      <td>65</td>\n",
       "      <td>0.103710</td>\n",
       "    </tr>\n",
       "    <tr>\n",
       "      <th>347012</th>\n",
       "      <td>458</td>\n",
       "      <td>3</td>\n",
       "      <td>22</td>\n",
       "      <td>7021</td>\n",
       "      <td>625</td>\n",
       "      <td>1</td>\n",
       "      <td>1</td>\n",
       "      <td>0</td>\n",
       "      <td>0</td>\n",
       "      <td>2</td>\n",
       "      <td>...</td>\n",
       "      <td>0</td>\n",
       "      <td>1</td>\n",
       "      <td>0</td>\n",
       "      <td>1</td>\n",
       "      <td>2013</td>\n",
       "      <td>23</td>\n",
       "      <td>2</td>\n",
       "      <td>17</td>\n",
       "      <td>65</td>\n",
       "      <td>0.217618</td>\n",
       "    </tr>\n",
       "    <tr>\n",
       "      <th>726749</th>\n",
       "      <td>960</td>\n",
       "      <td>3</td>\n",
       "      <td>22</td>\n",
       "      <td>7324</td>\n",
       "      <td>523</td>\n",
       "      <td>1</td>\n",
       "      <td>1</td>\n",
       "      <td>0</td>\n",
       "      <td>0</td>\n",
       "      <td>3</td>\n",
       "      <td>...</td>\n",
       "      <td>1</td>\n",
       "      <td>1</td>\n",
       "      <td>0</td>\n",
       "      <td>1</td>\n",
       "      <td>2013</td>\n",
       "      <td>23</td>\n",
       "      <td>2</td>\n",
       "      <td>17</td>\n",
       "      <td>65</td>\n",
       "      <td>0.227009</td>\n",
       "    </tr>\n",
       "    <tr>\n",
       "      <th>770719</th>\n",
       "      <td>1018</td>\n",
       "      <td>3</td>\n",
       "      <td>22</td>\n",
       "      <td>12814</td>\n",
       "      <td>1456</td>\n",
       "      <td>1</td>\n",
       "      <td>1</td>\n",
       "      <td>0</td>\n",
       "      <td>0</td>\n",
       "      <td>2</td>\n",
       "      <td>...</td>\n",
       "      <td>0</td>\n",
       "      <td>1</td>\n",
       "      <td>0</td>\n",
       "      <td>1</td>\n",
       "      <td>2013</td>\n",
       "      <td>23</td>\n",
       "      <td>2</td>\n",
       "      <td>17</td>\n",
       "      <td>65</td>\n",
       "      <td>0.397173</td>\n",
       "    </tr>\n",
       "    <tr>\n",
       "      <th>229915</th>\n",
       "      <td>305</td>\n",
       "      <td>3</td>\n",
       "      <td>22</td>\n",
       "      <td>3755</td>\n",
       "      <td>374</td>\n",
       "      <td>1</td>\n",
       "      <td>1</td>\n",
       "      <td>0</td>\n",
       "      <td>0</td>\n",
       "      <td>2</td>\n",
       "      <td>...</td>\n",
       "      <td>3</td>\n",
       "      <td>1</td>\n",
       "      <td>0</td>\n",
       "      <td>1</td>\n",
       "      <td>2013</td>\n",
       "      <td>23</td>\n",
       "      <td>2</td>\n",
       "      <td>17</td>\n",
       "      <td>65</td>\n",
       "      <td>0.116387</td>\n",
       "    </tr>\n",
       "    <tr>\n",
       "      <th>785215</th>\n",
       "      <td>1037</td>\n",
       "      <td>3</td>\n",
       "      <td>22</td>\n",
       "      <td>5997</td>\n",
       "      <td>821</td>\n",
       "      <td>1</td>\n",
       "      <td>1</td>\n",
       "      <td>0</td>\n",
       "      <td>0</td>\n",
       "      <td>0</td>\n",
       "      <td>...</td>\n",
       "      <td>0</td>\n",
       "      <td>1</td>\n",
       "      <td>0</td>\n",
       "      <td>1</td>\n",
       "      <td>2013</td>\n",
       "      <td>23</td>\n",
       "      <td>2</td>\n",
       "      <td>17</td>\n",
       "      <td>65</td>\n",
       "      <td>0.185879</td>\n",
       "    </tr>\n",
       "    <tr>\n",
       "      <th>698906</th>\n",
       "      <td>924</td>\n",
       "      <td>3</td>\n",
       "      <td>22</td>\n",
       "      <td>5108</td>\n",
       "      <td>466</td>\n",
       "      <td>1</td>\n",
       "      <td>1</td>\n",
       "      <td>0</td>\n",
       "      <td>0</td>\n",
       "      <td>0</td>\n",
       "      <td>...</td>\n",
       "      <td>2</td>\n",
       "      <td>1</td>\n",
       "      <td>0</td>\n",
       "      <td>1</td>\n",
       "      <td>2013</td>\n",
       "      <td>23</td>\n",
       "      <td>2</td>\n",
       "      <td>17</td>\n",
       "      <td>65</td>\n",
       "      <td>0.158324</td>\n",
       "    </tr>\n",
       "  </tbody>\n",
       "</table>\n",
       "<p>10 rows × 27 columns</p>\n",
       "</div>"
      ],
      "text/plain": [
       "        Store  DayOfWeek  Date  Sales  Customers  Open  Promo  StateHoliday  \\\n",
       "504908    667          3    22   8454        731     1      1             0   \n",
       "282297    373          3    22   4090        269     1      1             0   \n",
       "228350    303          3    22   6911        679     1      1             0   \n",
       "322037    425          3    22   3346        424     1      1             0   \n",
       "347012    458          3    22   7021        625     1      1             0   \n",
       "726749    960          3    22   7324        523     1      1             0   \n",
       "770719   1018          3    22  12814       1456     1      1             0   \n",
       "229915    305          3    22   3755        374     1      1             0   \n",
       "785215   1037          3    22   5997        821     1      1             0   \n",
       "698906    924          3    22   5108        466     1      1             0   \n",
       "\n",
       "        SchoolHoliday  StoreType  ...  PromoInterval  weekday  weekend  month  \\\n",
       "504908              0          3  ...              0        1        0      1   \n",
       "282297              0          3  ...              2        1        0      1   \n",
       "228350              0          0  ...              1        1        0      1   \n",
       "322037              0          3  ...              0        1        0      1   \n",
       "347012              0          2  ...              0        1        0      1   \n",
       "726749              0          3  ...              1        1        0      1   \n",
       "770719              0          2  ...              0        1        0      1   \n",
       "229915              0          2  ...              3        1        0      1   \n",
       "785215              0          0  ...              0        1        0      1   \n",
       "698906              0          0  ...              2        1        0      1   \n",
       "\n",
       "        year  day  period_in_month  before_holiday  after_holiday  SalesScaled  \n",
       "504908  2013   23                2              17             65     0.262034  \n",
       "282297  2013   23                2              17             65     0.126771  \n",
       "228350  2013   23                2              17             65     0.214208  \n",
       "322037  2013   23                2              17             65     0.103710  \n",
       "347012  2013   23                2              17             65     0.217618  \n",
       "726749  2013   23                2              17             65     0.227009  \n",
       "770719  2013   23                2              17             65     0.397173  \n",
       "229915  2013   23                2              17             65     0.116387  \n",
       "785215  2013   23                2              17             65     0.185879  \n",
       "698906  2013   23                2              17             65     0.158324  \n",
       "\n",
       "[10 rows x 27 columns]"
      ]
     },
     "execution_count": 20,
     "metadata": {},
     "output_type": "execute_result"
    }
   ],
   "source": [
    "reduced_df = train_split.copy()\n",
    "scaler = MinMaxScaler()\n",
    "scaler.fit(reduced_df.Sales.values.reshape([-1, 1]))\n",
    "SalesScaled = scaler.transform(reduced_df.Sales.values.reshape(-1, 1))\n",
    "reduced_df['SalesScaled'] = SalesScaled\n",
    "reduced_df.tail(10)"
   ]
  },
  {
   "cell_type": "code",
   "execution_count": null,
   "metadata": {},
   "outputs": [],
   "source": [
    "fig = plt.figure()\n",
    "gs = GridSpec(2, 1, figure=fig)\n",
    "\n",
    "fig.set_figheight(20)\n",
    "fig.set_figwidth(30)\n",
    "fig.tight_layout(pad=15)\n",
    "\n",
    "M = 100\n",
    "xticks = ticker.MaxNLocator(M)\n",
    "\n",
    "ax1 = fig.add_subplot(gs[0,0])\n",
    "ax1.plot(reduced_df.Date, latest_df.Sales, 'b-')\n",
    "ax1.xaxis.set_major_locator(xticks)\n",
    "ax1.tick_params(labelrotation=90)\n",
    "ax1.set_xlabel('Date')\n",
    "ax1.set_ylabel('Thousands of Units')\n",
    "ax1.title.set_text('Time Series Plot of House Sales')\n",
    "ax1.grid(True)\n",
    "\n",
    "ax2 = fig.add_subplot(gs[1,0])\n",
    "ax2.plot(reduced_df.Date, latest_df.SalesScaled, 'g-')\n",
    "ax2.xaxis.set_major_locator(xticks)\n",
    "ax2.tick_params(labelrotation=90)\n",
    "ax2.set_xlabel('Date')\n",
    "ax2.set_ylabel('Scaled Units')\n",
    "ax2.title.set_text('Time Series Plot of Min Max Scaled House Sales')\n",
    "ax2.grid(True)\n",
    "plt.show()"
   ]
  },
  {
   "cell_type": "code",
   "execution_count": 26,
   "metadata": {},
   "outputs": [
    {
     "data": {
      "image/png": "[encoded data removed]",
      "text/plain": [
       "<Figure size 2160x720 with 2 Axes>"
      ]
     },
     "metadata": {
      "needs_background": "light"
     },
     "output_type": "display_data"
    }
   ],
   "source": [
    "fig = plt.figure()\n",
    "gs = GridSpec(2, 1, figure=fig)\n",
    "\n",
    "fig.set_figheight(10)\n",
    "fig.set_figwidth(30)\n",
    "fig.tight_layout(pad=6)\n",
    "\n",
    "ax1 = fig.add_subplot(gs[0,0])\n",
    "ax1.hist(latest_df.Sales, density=True, bins=60)\n",
    "ax1.title.set_text('Histogram House Sales')\n",
    "ax1.grid(True)\n",
    "\n",
    "ax2 = fig.add_subplot(gs[1,0])\n",
    "ax2.hist(reduced_df.SalesScaled, density=True, bins=60)\n",
    "ax2.title.set_text('Histogram of the of Min Max Scaled House Sales')\n",
    "ax2.grid(True)\n",
    "plt.show()"
   ]
  },
  {
   "cell_type": "markdown",
   "metadata": {},
   "source": [
    "### Unit Root Tests"
   ]
  },
  {
   "cell_type": "code",
   "execution_count": 23,
   "metadata": {},
   "outputs": [
    {
     "name": "stdout",
     "output_type": "stream",
     "text": [
      "ADF Statistic: -5.612133266868626\n",
      "p-value: 1.1968294943053206e-06\n"
     ]
    }
   ],
   "source": [
    "adfResult = adfuller(reduced_df.Sales.values, autolag='AIC')\n",
    "print(f'ADF Statistic: {adfResult[0]}')\n",
    "print(f'p-value: {adfResult[1]}')"
   ]
  },
  {
   "cell_type": "code",
   "execution_count": 24,
   "metadata": {},
   "outputs": [
    {
     "name": "stdout",
     "output_type": "stream",
     "text": [
      "ADF Statistic: -5.612133266868622\n",
      "p-value: 1.1968294943053382e-06\n"
     ]
    }
   ],
   "source": [
    "adfResult = adfuller(reduced_df.SalesScaled.values, autolag='AIC')\n",
    "print(f'ADF Statistic: {adfResult[0]}')\n",
    "print(f'p-value: {adfResult[1]}')"
   ]
  },
  {
   "cell_type": "markdown",
   "metadata": {},
   "source": [
    "Removing Stationary"
   ]
  },
  {
   "cell_type": "code",
   "execution_count": 7,
   "metadata": {},
   "outputs": [],
   "source": [
    "# create a differenced series\n",
    "def difference(dataset, interval=1):\n",
    "\tdiff = list()\n",
    "\tfor i in range(interval, len(dataset)):\n",
    "\t\tvalue = dataset[i] - dataset[i - interval]\n",
    "\t\tdiff.append(value)\n",
    "\treturn pd.Series(diff)"
   ]
  },
  {
   "cell_type": "code",
   "execution_count": 8,
   "metadata": {},
   "outputs": [],
   "source": [
    "houseSalesDif = difference(latest_df.SalesScaled.values)"
   ]
  },
  {
   "cell_type": "code",
   "execution_count": 9,
   "metadata": {},
   "outputs": [],
   "source": [
    "acfSalesScaled = acf(latest_df.SalesScaled.values, fft=True, nlags=40)\n",
    "acfSalesScaledNp = np.array(acfSalesScaled)"
   ]
  },
  {
   "cell_type": "code",
   "execution_count": 10,
   "metadata": {},
   "outputs": [],
   "source": [
    "def corrPlots(array: np.array, prefix: str):\n",
    "    plt.figure(figsize=(30, 5))\n",
    "    plt.title(f\"{prefix}  Autocorrelations of House Sales Min Max Scaled\")\n",
    "    plt.bar(range(len(array)), array)\n",
    "    plt.grid(True)\n",
    "    plt.show()"
   ]
  },
  {
   "cell_type": "code",
   "execution_count": 11,
   "metadata": {},
   "outputs": [
    {
     "data": {
      "image/png": "[encoded data removed]",
      "text/plain": [
       "<Figure size 2160x360 with 1 Axes>"
      ]
     },
     "metadata": {
      "needs_background": "light"
     },
     "output_type": "display_data"
    }
   ],
   "source": [
    "corrPlots(acfSalesScaledNp, '')"
   ]
  },
  {
   "cell_type": "code",
   "execution_count": 12,
   "metadata": {},
   "outputs": [],
   "source": [
    "pacfSalesScaled = pacf(latest_df.SalesScaled.values, nlags=40)\n",
    "pacfSalesScaledNp = np.array(pacfSalesScaled)"
   ]
  },
  {
   "cell_type": "code",
   "execution_count": 13,
   "metadata": {},
   "outputs": [
    {
     "data": {
      "image/png": "[encoded data removed]",
      "text/plain": [
       "<Figure size 2160x360 with 1 Axes>"
      ]
     },
     "metadata": {
      "needs_background": "light"
     },
     "output_type": "display_data"
    }
   ],
   "source": [
    "corrPlots(pacfSalesScaledNp, \"Partial\")"
   ]
  }
 ],
 "metadata": {
  "interpreter": {
   "hash": "514e5c7076d7a546f608c21a732fbf2e9469a5cbb4925f2a57d3b23341781034"
  },
  "kernelspec": {
   "display_name": "Python 3.9.12 ('tf-gpu')",
   "language": "python",
   "name": "python3"
  },
  "language_info": {
   "codemirror_mode": {
    "name": "ipython",
    "version": 3
   },
   "file_extension": ".py",
   "mimetype": "text/x-python",
   "name": "python",
   "nbconvert_exporter": "python",
   "pygments_lexer": "ipython3",
   "version": "3.9.12"
  },
  "orig_nbformat": 4
 },
 "nbformat": 4,
 "nbformat_minor": 2
}
